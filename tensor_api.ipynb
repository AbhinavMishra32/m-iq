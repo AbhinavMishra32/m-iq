{
 "cells": [
  {
   "cell_type": "code",
   "execution_count": 1,
   "id": "bea0da0e",
   "metadata": {},
   "outputs": [
    {
     "name": "stdout",
     "output_type": "stream",
     "text": [
      "NVIDIA-SMI has failed because it couldn't communicate with the NVIDIA driver. Make sure that the latest NVIDIA driver is installed and running.\n",
      "\n"
     ]
    }
   ],
   "source": [
    "!nvidia-smi"
   ]
  },
  {
   "cell_type": "code",
   "execution_count": 7,
   "id": "13946cc4",
   "metadata": {},
   "outputs": [
    {
     "name": "stdout",
     "output_type": "stream",
     "text": [
      "Looking in indexes: https://download.pytorch.org/whl/cu126\n",
      "Requirement already satisfied: torch in f:\\a\\m-iq\\.venv\\lib\\site-packages (2.6.0+cu126)\n",
      "Requirement already satisfied: torchvision in f:\\a\\m-iq\\.venv\\lib\\site-packages (0.21.0+cu126)\n",
      "Requirement already satisfied: torchaudio in f:\\a\\m-iq\\.venv\\lib\\site-packages (2.6.0+cu126)\n",
      "Requirement already satisfied: filelock in f:\\a\\m-iq\\.venv\\lib\\site-packages (from torch) (3.13.1)\n",
      "Requirement already satisfied: typing-extensions>=4.10.0 in f:\\a\\m-iq\\.venv\\lib\\site-packages (from torch) (4.12.2)\n",
      "Requirement already satisfied: networkx in f:\\a\\m-iq\\.venv\\lib\\site-packages (from torch) (3.3)\n",
      "Requirement already satisfied: jinja2 in f:\\a\\m-iq\\.venv\\lib\\site-packages (from torch) (3.1.4)\n",
      "Requirement already satisfied: fsspec in f:\\a\\m-iq\\.venv\\lib\\site-packages (from torch) (2024.6.1)\n",
      "Requirement already satisfied: setuptools in f:\\a\\m-iq\\.venv\\lib\\site-packages (from torch) (70.2.0)\n",
      "Requirement already satisfied: sympy==1.13.1 in f:\\a\\m-iq\\.venv\\lib\\site-packages (from torch) (1.13.1)\n",
      "Requirement already satisfied: mpmath<1.4,>=1.1.0 in f:\\a\\m-iq\\.venv\\lib\\site-packages (from sympy==1.13.1->torch) (1.3.0)\n",
      "Requirement already satisfied: numpy in f:\\a\\m-iq\\.venv\\lib\\site-packages (from torchvision) (2.1.2)\n",
      "Requirement already satisfied: pillow!=8.3.*,>=5.3.0 in f:\\a\\m-iq\\.venv\\lib\\site-packages (from torchvision) (11.0.0)\n",
      "Requirement already satisfied: MarkupSafe>=2.0 in f:\\a\\m-iq\\.venv\\lib\\site-packages (from jinja2->torch) (2.1.5)\n"
     ]
    },
    {
     "name": "stderr",
     "output_type": "stream",
     "text": [
      "\n",
      "[notice] A new release of pip is available: 23.2.1 -> 25.0.1\n",
      "[notice] To update, run: python.exe -m pip install --upgrade pip\n"
     ]
    }
   ],
   "source": [
    "!pip3 install torch torchvision torchaudio --index-url https://download.pytorch.org/whl/cu126"
   ]
  },
  {
   "cell_type": "code",
   "execution_count": 3,
   "id": "24c8717d",
   "metadata": {},
   "outputs": [
    {
     "name": "stdout",
     "output_type": "stream",
     "text": [
      "2.6.0+cpu\n"
     ]
    }
   ],
   "source": [
    "import torch\n",
    "# import pandas as pd\n",
    "# import numpy as np\n",
    "# import matplotlib.pyplot as plt\n",
    "print(torch.__version__)"
   ]
  },
  {
   "cell_type": "code",
   "execution_count": 4,
   "id": "94eb9758",
   "metadata": {},
   "outputs": [
    {
     "name": "stdout",
     "output_type": "stream",
     "text": [
      "GPU is not available\n"
     ]
    }
   ],
   "source": [
    "if torch.cuda.is_available():\n",
    "    print(\"GPU is available\")\n",
    "    print(f\"Using GPU: {torch.cuda.get_device_name()}\")\n",
    "else:\n",
    "    print(\"GPU is not available\")"
   ]
  },
  {
   "cell_type": "code",
   "execution_count": 5,
   "id": "84133028",
   "metadata": {},
   "outputs": [
    {
     "data": {
      "text/plain": [
       "tensor(3.1400)"
      ]
     },
     "execution_count": 5,
     "metadata": {},
     "output_type": "execute_result"
    }
   ],
   "source": [
    "#scalar\n",
    "x = torch.tensor(3.14)\n",
    "x"
   ]
  },
  {
   "cell_type": "code",
   "execution_count": 11,
   "id": "38198777",
   "metadata": {},
   "outputs": [
    {
     "data": {
      "text/plain": [
       "tensor([[2.9559e-11, 7.5670e-43, 0.0000e+00, 0.0000e+00],\n",
       "        [0.0000e+00, 0.0000e+00, 0.0000e+00, 0.0000e+00]])"
      ]
     },
     "execution_count": 11,
     "metadata": {},
     "output_type": "execute_result"
    }
   ],
   "source": [
    "a = torch.empty(2, 4)\n",
    "a"
   ]
  },
  {
   "cell_type": "code",
   "execution_count": 12,
   "id": "c5d692de",
   "metadata": {},
   "outputs": [
    {
     "data": {
      "text/plain": [
       "tensor([[[0.7580, 0.9509],\n",
       "         [0.2480, 0.9781],\n",
       "         [0.9431, 0.4382],\n",
       "         [0.6702, 0.9006],\n",
       "         [0.0545, 0.5914]],\n",
       "\n",
       "        [[0.5808, 0.4984],\n",
       "         [0.6691, 0.0314],\n",
       "         [0.6303, 0.9788],\n",
       "         [0.8203, 0.9491],\n",
       "         [0.7869, 0.8714]],\n",
       "\n",
       "        [[0.7152, 0.6575],\n",
       "         [0.3585, 0.8939],\n",
       "         [0.3590, 0.5435],\n",
       "         [0.5624, 0.3551],\n",
       "         [0.8717, 0.2430]]])"
      ]
     },
     "execution_count": 12,
     "metadata": {},
     "output_type": "execute_result"
    }
   ],
   "source": [
    "torch.rand(3, 5, 2)"
   ]
  },
  {
   "cell_type": "code",
   "execution_count": 13,
   "id": "a904b114",
   "metadata": {},
   "outputs": [
    {
     "data": {
      "text/plain": [
       "torch.Size([5])"
      ]
     },
     "execution_count": 13,
     "metadata": {},
     "output_type": "execute_result"
    }
   ],
   "source": [
    "f = torch.arange(1, 10, 2)\n",
    "f.shape"
   ]
  },
  {
   "cell_type": "code",
   "execution_count": 14,
   "id": "174da19a",
   "metadata": {},
   "outputs": [
    {
     "data": {
      "text/plain": [
       "tensor(34)"
      ]
     },
     "execution_count": 14,
     "metadata": {},
     "output_type": "execute_result"
    }
   ],
   "source": [
    "a = torch.tensor([1, 4, 5])\n",
    "b = torch.tensor([2, 3, 4])\n",
    "\n",
    "c = torch.matmul(a, b)\n",
    "c"
   ]
  },
  {
   "cell_type": "code",
   "execution_count": 15,
   "id": "0e4171f8",
   "metadata": {},
   "outputs": [
    {
     "data": {
      "text/plain": [
       "tensor([2., 3., 4.])"
      ]
     },
     "execution_count": 15,
     "metadata": {},
     "output_type": "execute_result"
    }
   ],
   "source": [
    "i = torch.ceil(torch.tensor([1.2, 2.5, 3.7]))\n",
    "i\n"
   ]
  },
  {
   "cell_type": "code",
   "execution_count": 16,
   "id": "24a696f5",
   "metadata": {},
   "outputs": [
    {
     "data": {
      "text/plain": [
       "tensor(10)"
      ]
     },
     "execution_count": 16,
     "metadata": {},
     "output_type": "execute_result"
    }
   ],
   "source": [
    "sum = torch.sum(torch.tensor([1, 2, 3, 4]))\n",
    "sum"
   ]
  },
  {
   "cell_type": "code",
   "execution_count": 17,
   "id": "b7cc633d",
   "metadata": {},
   "outputs": [
    {
     "data": {
      "text/plain": [
       "tensor([[[0.1825, 0.6319, 0.7149, 0.4351, 0.3979],\n",
       "         [0.5676, 0.7407, 0.5088, 0.6372, 0.6132],\n",
       "         [0.3076, 0.9797, 0.3097, 0.9126, 0.0928]],\n",
       "\n",
       "        [[0.2358, 0.8279, 0.2122, 0.3896, 0.5053],\n",
       "         [0.9924, 0.0726, 0.7606, 0.5847, 0.3135],\n",
       "         [0.1290, 0.7810, 0.4060, 0.8025, 0.6374]]])"
      ]
     },
     "execution_count": 17,
     "metadata": {},
     "output_type": "execute_result"
    }
   ],
   "source": [
    "e = torch.randint(size=(2, 3), low=0, high=int(1e5), dtype=torch.float32)\n",
    "torch.rand(2, 3, 5)"
   ]
  },
  {
   "cell_type": "code",
   "execution_count": 18,
   "id": "00c9333f",
   "metadata": {},
   "outputs": [
    {
     "data": {
      "text/plain": [
       "tensor(33899.4766)"
      ]
     },
     "execution_count": 18,
     "metadata": {},
     "output_type": "execute_result"
    }
   ],
   "source": [
    "torch.mean(e)\n",
    "torch.std(e)"
   ]
  },
  {
   "cell_type": "code",
   "execution_count": 19,
   "id": "af8f81ad",
   "metadata": {},
   "outputs": [
    {
     "name": "stdout",
     "output_type": "stream",
     "text": [
      "torch.float32\n",
      "torch.int32\n"
     ]
    }
   ],
   "source": [
    "x = torch.rand(size=(2, 3), dtype=torch.float32)\n",
    "print(x.dtype)\n",
    "\n",
    "y = x.type(torch.int32)\n",
    "print(y.dtype)"
   ]
  },
  {
   "cell_type": "code",
   "execution_count": 20,
   "id": "43552ded",
   "metadata": {},
   "outputs": [
    {
     "name": "stdout",
     "output_type": "stream",
     "text": [
      "tensor([[0.7362, 0.7984],\n",
      "        [0.3102, 0.2372],\n",
      "        [0.6010, 0.0888],\n",
      "        [0.9182, 0.3174],\n",
      "        [0.2492, 0.2290]])\n",
      "tensor([[0.9645, 0.0020, 0.7989],\n",
      "        [0.7683, 0.3118, 0.9671]])\n",
      "tensor([[1.3235, 0.2504, 1.3603],\n",
      "        [0.4814, 0.0746, 0.4772],\n",
      "        [0.6479, 0.0289, 0.5660],\n",
      "        [1.1294, 0.1008, 1.0405],\n",
      "        [0.4163, 0.0719, 0.4206]])\n"
     ]
    }
   ],
   "source": [
    "a = torch.rand(size=(5, 2), dtype=torch.float32)\n",
    "b = torch.rand(size=(2, 3), dtype=torch.float32)\n",
    "print(a)\n",
    "print(b)\n",
    "\n",
    "c = torch.matmul(a, b)\n",
    "print(c)"
   ]
  },
  {
   "cell_type": "code",
   "execution_count": 25,
   "id": "288c6a45",
   "metadata": {},
   "outputs": [
    {
     "data": {
      "text/plain": [
       "tensor([[0.7362, 0.7984, 0.3102, 0.2372, 0.6010, 0.0888, 0.9182, 0.3174, 0.2492,\n",
       "         0.2290]])"
      ]
     },
     "execution_count": 25,
     "metadata": {},
     "output_type": "execute_result"
    }
   ],
   "source": [
    "a_new = a.reshape(1, 10)\n",
    "a_new"
   ]
  },
  {
   "cell_type": "code",
   "execution_count": 6,
   "id": "1408d228",
   "metadata": {},
   "outputs": [
    {
     "name": "stdout",
     "output_type": "stream",
     "text": [
      "tensor([[2, 4, 5],\n",
      "        [3, 5, 6]])\n",
      "tensor([[2, 4, 5],\n",
      "        [3, 5, 6]])\n"
     ]
    }
   ],
   "source": [
    "r = torch.tensor([[2, 4, 5],[3, 5, 6]])\n",
    "r.shape\n",
    "print(r)\n",
    "print(r.squeeze())"
   ]
  },
  {
   "cell_type": "code",
   "execution_count": null,
   "id": "60ffe16a",
   "metadata": {},
   "outputs": [],
   "source": []
  },
  {
   "cell_type": "code",
   "execution_count": null,
   "id": "623a2006",
   "metadata": {},
   "outputs": [],
   "source": []
  }
 ],
 "metadata": {
  "kernelspec": {
   "display_name": ".venv",
   "language": "python",
   "name": "python3"
  },
  "language_info": {
   "codemirror_mode": {
    "name": "ipython",
    "version": 3
   },
   "file_extension": ".py",
   "mimetype": "text/x-python",
   "name": "python",
   "nbconvert_exporter": "python",
   "pygments_lexer": "ipython3",
   "version": "3.13.2"
  }
 },
 "nbformat": 4,
 "nbformat_minor": 5
}
